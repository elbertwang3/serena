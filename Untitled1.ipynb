{
 "cells": [
  {
   "cell_type": "code",
   "execution_count": 1,
   "metadata": {},
   "outputs": [],
   "source": [
    "import pandas as pd"
   ]
  },
  {
   "cell_type": "code",
   "execution_count": 4,
   "metadata": {},
   "outputs": [],
   "source": [
    "df = pd.read_csv('matchstats.csv')"
   ]
  },
  {
   "cell_type": "code",
   "execution_count": 10,
   "metadata": {},
   "outputs": [
    {
     "data": {
      "text/plain": [
       "0                   [6-2, 6-1]\n",
       "1              [6-3, 4-6, 7-5]\n",
       "2              [4-6, 6-4, 6-0]\n",
       "3                   [6-2, 6-3]\n",
       "4             [3-6, 7-5, 11-9]\n",
       "5                [7-6(4), 6-3]\n",
       "6                   [6-3, 6-4]\n",
       "7              [4-6, 6-4, 6-4]\n",
       "8              [2-6, 6-0, 6-1]\n",
       "9                   [6-4, 6-2]\n",
       "10                  [6-3, 6-3]\n",
       "11                  [6-1, 6-1]\n",
       "12                  [6-3, 6-2]\n",
       "13                  [6-0, 6-2]\n",
       "14                  [6-1, 6-3]\n",
       "15                  [6-3, 7-5]\n",
       "16                  [6-3, 7-5]\n",
       "17          [7-5, 6-7(5), 6-4]\n",
       "18                  [6-4, 7-5]\n",
       "19                  [6-3, 6-3]\n",
       "20                  [6-1, 6-0]\n",
       "21                  [6-1, 7-5]\n",
       "22                  [6-4, 6-3]\n",
       "23                  [6-4, 6-3]\n",
       "24                  [6-2, 6-2]\n",
       "25                  [6-2, 6-3]\n",
       "26                  [6-4, 6-4]\n",
       "27                  [6-1, 7-5]\n",
       "28             [1-6, 6-1, 6-4]\n",
       "29             [4-6, 7-5, 6-0]\n",
       "                 ...          \n",
       "42420               [6-3, 6-4]\n",
       "42421               [7-5, 6-4]\n",
       "42422               [6-4, 6-0]\n",
       "42423               [6-1, 6-3]\n",
       "42424          [4-6, 6-4, 6-4]\n",
       "42425               [7-5, 6-3]\n",
       "42426               [7-5, 7-5]\n",
       "42427               [6-3, 6-3]\n",
       "42428          [6-3, 4-6, 6-2]\n",
       "42429    [6-1, 6-7(4), 7-6(3)]\n",
       "42430          [6-0, 1-6, 6-4]\n",
       "42431               [6-4, 6-1]\n",
       "42432            [6-3, 7-6(3)]\n",
       "42433       [3-6, 6-2, 7-6(4)]\n",
       "42434               [6-4, 6-1]\n",
       "42435     [1-6, 7-5, 2-0, RET]\n",
       "42436               [6-2, 6-4]\n",
       "42437          [1-6, 6-4, 6-1]\n",
       "42438               [6-3, 6-2]\n",
       "42439               [6-0, 6-1]\n",
       "42440               [6-3, 6-1]\n",
       "42441               [6-2, 6-0]\n",
       "42442               [6-2, 7-5]\n",
       "42443          [6-1, 4-0, RET]\n",
       "42444       [6-3, 1-6, 7-6(3)]\n",
       "42445            [7-6(6), 6-2]\n",
       "42446               [6-2, 6-4]\n",
       "42447               [7-5, 6-2]\n",
       "42448          [6-2, 4-6, 7-5]\n",
       "42449               [6-2, 6-4]\n",
       "Name: score, Length: 42450, dtype: object"
      ]
     },
     "execution_count": 10,
     "metadata": {},
     "output_type": "execute_result"
    }
   ],
   "source": [
    "df['score']"
   ]
  },
  {
   "cell_type": "code",
   "execution_count": null,
   "metadata": {},
   "outputs": [],
   "source": []
  }
 ],
 "metadata": {
  "kernelspec": {
   "display_name": "Python 2",
   "language": "python",
   "name": "python2"
  },
  "language_info": {
   "codemirror_mode": {
    "name": "ipython",
    "version": 2
   },
   "file_extension": ".py",
   "mimetype": "text/x-python",
   "name": "python",
   "nbconvert_exporter": "python",
   "pygments_lexer": "ipython2",
   "version": "2.7.14"
  }
 },
 "nbformat": 4,
 "nbformat_minor": 2
}
